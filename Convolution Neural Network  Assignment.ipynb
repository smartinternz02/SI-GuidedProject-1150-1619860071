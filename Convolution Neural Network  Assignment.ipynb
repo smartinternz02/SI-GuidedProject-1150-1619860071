{
 "cells": [
  {
   "cell_type": "code",
   "execution_count": 1,
   "metadata": {},
   "outputs": [],
   "source": [
    "from tensorflow.keras.models import Sequential\n",
    "from tensorflow.keras.layers import Dense\n",
    "from tensorflow.keras.layers import Convolution2D\n",
    "from tensorflow.keras.layers import MaxPooling2D\n",
    "from tensorflow.keras.layers import Flatten"
   ]
  },
  {
   "cell_type": "code",
   "execution_count": 2,
   "metadata": {},
   "outputs": [
    {
     "name": "stderr",
     "output_type": "stream",
     "text": [
      "Using TensorFlow backend.\n"
     ]
    }
   ],
   "source": [
    "from keras.preprocessing.image import ImageDataGenerator\n",
    "train_datagen = ImageDataGenerator(rescale = 1./255,shear_range = 0.2,zoom_range = 0.2,horizontal_flip = True)\n",
    "test_datagen = ImageDataGenerator(rescale = 1./255)"
   ]
  },
  {
   "cell_type": "code",
   "execution_count": 6,
   "metadata": {},
   "outputs": [
    {
     "name": "stdout",
     "output_type": "stream",
     "text": [
      "Found 100 images belonging to 5 classes.\n",
      "Found 50 images belonging to 5 classes.\n"
     ]
    }
   ],
   "source": [
    "x_train = train_datagen.flow_from_directory(r\"E:\\Geethanjali\\things data\\trainset\",target_size = (64,64),batch_size = 32,class_mode = \"categorical\")\n",
    "x_test = test_datagen.flow_from_directory(r\"E:\\Geethanjali\\things data\\testset\",target_size = (64,64),batch_size = 32,class_mode = \"categorical\")"
   ]
  },
  {
   "cell_type": "code",
   "execution_count": 7,
   "metadata": {},
   "outputs": [],
   "source": [
    "model = Sequential()"
   ]
  },
  {
   "cell_type": "code",
   "execution_count": 8,
   "metadata": {},
   "outputs": [
    {
     "name": "stdout",
     "output_type": "stream",
     "text": [
      "WARNING:tensorflow:From C:\\Users\\Mallela Akhila\\Anaconda3\\lib\\site-packages\\tensorflow\\python\\ops\\init_ops.py:1251: calling VarianceScaling.__init__ (from tensorflow.python.ops.init_ops) with dtype is deprecated and will be removed in a future version.\n",
      "Instructions for updating:\n",
      "Call initializer instance with the dtype argument instead of passing it to the constructor\n"
     ]
    }
   ],
   "source": [
    "model.add(Convolution2D(32,(3,3),input_shape = (64,64,3),activation = \"relu\"))"
   ]
  },
  {
   "cell_type": "code",
   "execution_count": 9,
   "metadata": {},
   "outputs": [],
   "source": [
    "model.add(MaxPooling2D(2,2))"
   ]
  },
  {
   "cell_type": "code",
   "execution_count": 10,
   "metadata": {},
   "outputs": [],
   "source": [
    "model.add(Flatten())"
   ]
  },
  {
   "cell_type": "code",
   "execution_count": 11,
   "metadata": {},
   "outputs": [
    {
     "name": "stdout",
     "output_type": "stream",
     "text": [
      "WARNING:tensorflow:From C:\\Users\\Mallela Akhila\\Anaconda3\\lib\\site-packages\\tensorflow\\python\\keras\\initializers.py:119: calling RandomUniform.__init__ (from tensorflow.python.ops.init_ops) with dtype is deprecated and will be removed in a future version.\n",
      "Instructions for updating:\n",
      "Call initializer instance with the dtype argument instead of passing it to the constructor\n"
     ]
    }
   ],
   "source": [
    "model.add(Dense(units = 512,activation = \"relu\",kernel_initializer = \"random_uniform\"))"
   ]
  },
  {
   "cell_type": "code",
   "execution_count": 12,
   "metadata": {},
   "outputs": [],
   "source": [
    "model.add(Dense(units = 5,activation = \"softmax\",kernel_initializer = \"random_uniform\"))"
   ]
  },
  {
   "cell_type": "code",
   "execution_count": 13,
   "metadata": {},
   "outputs": [],
   "source": [
    "model.compile(\"sgd\",loss = \"categorical_crossentropy\",metrics = [\"accuracy\"])"
   ]
  },
  {
   "cell_type": "code",
   "execution_count": 14,
   "metadata": {},
   "outputs": [
    {
     "name": "stdout",
     "output_type": "stream",
     "text": [
      "Epoch 1/30\n",
      "47/47 [==============================] - 13s 280ms/step - loss: 1.5867 - acc: 0.2997 - val_loss: 1.5373 - val_acc: 0.2800\n",
      "Epoch 2/30\n",
      "47/47 [==============================] - 10s 216ms/step - loss: 1.3777 - acc: 0.4774 - val_loss: 1.3611 - val_acc: 0.4800\n",
      "Epoch 3/30\n",
      "47/47 [==============================] - 10s 222ms/step - loss: 1.2524 - acc: 0.5557 - val_loss: 1.3284 - val_acc: 0.4600\n",
      "Epoch 4/30\n",
      "47/47 [==============================] - 10s 219ms/step - loss: 1.1175 - acc: 0.5950 - val_loss: 1.3096 - val_acc: 0.4800\n",
      "Epoch 5/30\n",
      "47/47 [==============================] - 10s 221ms/step - loss: 0.9442 - acc: 0.6756 - val_loss: 1.1585 - val_acc: 0.5200\n",
      "Epoch 6/30\n",
      "47/47 [==============================] - 11s 235ms/step - loss: 0.8343 - acc: 0.7063 - val_loss: 1.1274 - val_acc: 0.5200\n",
      "Epoch 7/30\n",
      "47/47 [==============================] - 11s 234ms/step - loss: 0.7208 - acc: 0.7637 - val_loss: 1.1013 - val_acc: 0.5800\n",
      "Epoch 8/30\n",
      "47/47 [==============================] - 11s 227ms/step - loss: 0.6215 - acc: 0.7688 - val_loss: 1.1170 - val_acc: 0.5400\n",
      "Epoch 9/30\n",
      "47/47 [==============================] - 10s 211ms/step - loss: 0.5026 - acc: 0.8296 - val_loss: 1.2070 - val_acc: 0.6000\n",
      "Epoch 10/30\n",
      "47/47 [==============================] - 11s 229ms/step - loss: 0.5364 - acc: 0.8005 - val_loss: 1.3460 - val_acc: 0.5600\n",
      "Epoch 11/30\n",
      "47/47 [==============================] - 11s 225ms/step - loss: 0.4174 - acc: 0.8696 - val_loss: 1.0558 - val_acc: 0.6400\n",
      "Epoch 12/30\n",
      "47/47 [==============================] - 11s 224ms/step - loss: 0.2959 - acc: 0.9170 - val_loss: 1.0157 - val_acc: 0.5800\n",
      "Epoch 13/30\n",
      "47/47 [==============================] - 10s 212ms/step - loss: 0.2888 - acc: 0.9204 - val_loss: 1.1817 - val_acc: 0.5800\n",
      "Epoch 14/30\n",
      "47/47 [==============================] - 11s 234ms/step - loss: 0.2742 - acc: 0.9178 - val_loss: 1.0951 - val_acc: 0.6200\n",
      "Epoch 15/30\n",
      "47/47 [==============================] - 11s 225ms/step - loss: 0.2613 - acc: 0.9298 - val_loss: 1.1784 - val_acc: 0.6200\n",
      "Epoch 16/30\n",
      "47/47 [==============================] - 11s 231ms/step - loss: 0.1359 - acc: 0.9743 - val_loss: 1.1721 - val_acc: 0.6000\n",
      "Epoch 17/30\n",
      "47/47 [==============================] - 11s 228ms/step - loss: 0.3606 - acc: 0.9178 - val_loss: 1.0885 - val_acc: 0.5800\n",
      "Epoch 18/30\n",
      "47/47 [==============================] - 11s 236ms/step - loss: 0.1925 - acc: 0.9666 - val_loss: 1.1101 - val_acc: 0.6200\n",
      "Epoch 19/30\n",
      "47/47 [==============================] - 11s 224ms/step - loss: 0.1116 - acc: 0.9798 - val_loss: 1.2370 - val_acc: 0.6200\n",
      "Epoch 20/30\n",
      "47/47 [==============================] - 11s 225ms/step - loss: 0.0845 - acc: 0.9883 - val_loss: 1.3463 - val_acc: 0.5600\n",
      "Epoch 21/30\n",
      "47/47 [==============================] - 11s 226ms/step - loss: 0.0924 - acc: 0.9841 - val_loss: 1.3893 - val_acc: 0.5800\n",
      "Epoch 22/30\n",
      "47/47 [==============================] - 11s 230ms/step - loss: 0.0533 - acc: 0.9949 - val_loss: 1.3734 - val_acc: 0.6000\n",
      "Epoch 23/30\n",
      "47/47 [==============================] - 10s 220ms/step - loss: 0.0414 - acc: 0.9974 - val_loss: 1.3745 - val_acc: 0.6200\n",
      "Epoch 24/30\n",
      "47/47 [==============================] - 11s 235ms/step - loss: 0.1560 - acc: 0.9752 - val_loss: 1.6614 - val_acc: 0.5600\n",
      "Epoch 25/30\n",
      "47/47 [==============================] - 11s 226ms/step - loss: 0.1770 - acc: 0.9691 - val_loss: 1.2577 - val_acc: 0.5800\n",
      "Epoch 26/30\n",
      "47/47 [==============================] - 11s 229ms/step - loss: 0.0682 - acc: 0.9939 - val_loss: 1.3834 - val_acc: 0.5800\n",
      "Epoch 27/30\n",
      "47/47 [==============================] - 11s 229ms/step - loss: 0.0399 - acc: 0.9983 - val_loss: 1.3829 - val_acc: 0.6000\n",
      "Epoch 28/30\n",
      "47/47 [==============================] - 11s 225ms/step - loss: 0.0289 - acc: 0.9991 - val_loss: 1.4255 - val_acc: 0.6200\n",
      "Epoch 29/30\n",
      "47/47 [==============================] - 11s 226ms/step - loss: 0.0239 - acc: 1.0000 - val_loss: 1.4778 - val_acc: 0.6200\n",
      "Epoch 30/30\n",
      "47/47 [==============================] - 10s 221ms/step - loss: 0.0242 - acc: 0.9983 - val_loss: 1.5005 - val_acc: 0.6000\n"
     ]
    },
    {
     "data": {
      "text/plain": [
       "<tensorflow.python.keras.callbacks.History at 0x229c4104518>"
      ]
     },
     "execution_count": 14,
     "metadata": {},
     "output_type": "execute_result"
    }
   ],
   "source": [
    "model.fit_generator(x_train,steps_per_epoch =47,epochs = 30,validation_data = x_test,validation_steps = 20)"
   ]
  },
  {
   "cell_type": "code",
   "execution_count": 17,
   "metadata": {},
   "outputs": [],
   "source": [
    "model.save(\"things.h5\")"
   ]
  },
  {
   "cell_type": "code",
   "execution_count": null,
   "metadata": {},
   "outputs": [],
   "source": []
  }
 ],
 "metadata": {
  "kernelspec": {
   "display_name": "Python 3",
   "language": "python",
   "name": "python3"
  },
  "language_info": {
   "codemirror_mode": {
    "name": "ipython",
    "version": 3
   },
   "file_extension": ".py",
   "mimetype": "text/x-python",
   "name": "python",
   "nbconvert_exporter": "python",
   "pygments_lexer": "ipython3",
   "version": "3.7.3"
  }
 },
 "nbformat": 4,
 "nbformat_minor": 2
}
